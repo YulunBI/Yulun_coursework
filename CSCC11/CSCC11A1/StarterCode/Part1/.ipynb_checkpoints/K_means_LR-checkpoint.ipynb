{
 "cells": [
  {
   "cell_type": "markdown",
   "metadata": {
    "id": "YvbkHQQkSzdi"
   },
   "source": [
    "# CSCC11 - Introduction to Machine Learning, Fall 2022, Assignment 1"
   ]
  },
  {
   "cell_type": "code",
   "execution_count": null,
   "metadata": {
    "id": "pK-Wu4hfz97-"
   },
   "outputs": [],
   "source": [
    "import pandas as pd\n",
    "import numpy as np \n",
    "import matplotlib.pyplot as plt\n",
    "from sklearn.model_selection import train_test_split\n",
    "from sklearn.cluster import KMeans\n",
    "from sklearn.metrics import silhouette_score\n",
    "import statistics\n",
    "from scipy import stats"
   ]
  },
  {
   "cell_type": "code",
   "execution_count": null,
   "metadata": {
    "id": "e5f5zgrD0DHJ"
   },
   "outputs": [],
   "source": [
    "#TO-DO\n",
    "\"\"\"\n",
    "Read the csv file into a DataFrame - df\n",
    "\"\"\"\n",
    "df = "
   ]
  },
  {
   "cell_type": "code",
   "execution_count": null,
   "metadata": {
    "id": "UlYEmMORp1nv"
   },
   "outputs": [],
   "source": [
    "\"\"\"\n",
    "Print the DataFrame\n",
    "\"\"\"\n",
    "df"
   ]
  },
  {
   "cell_type": "code",
   "execution_count": null,
   "metadata": {
    "id": "qG0T29UBp1nw"
   },
   "outputs": [],
   "source": [
    "#TO-DO\n",
    "\"\"\"\n",
    "Print the length of the DataFrame.\n",
    "Print the column names of the DataFrame.\n",
    "\"\"\""
   ]
  },
  {
   "cell_type": "code",
   "execution_count": null,
   "metadata": {
    "id": "eI7SRu_kp1nx"
   },
   "outputs": [],
   "source": [
    "#TO-DO\n",
    "\"\"\"\n",
    "Define an “X” array that would hold our independent features for regression purposes.  \n",
    "Define a \"Y\" array that would hold our target variable.\n",
    "\n",
    "Print the shape of both the arrays.\n",
    "\"\"\"\n"
   ]
  },
  {
   "cell_type": "markdown",
   "metadata": {
    "id": "q5xnt6Wfp1ny"
   },
   "source": [
    "## Split the data "
   ]
  },
  {
   "cell_type": "code",
   "execution_count": null,
   "metadata": {
    "id": "JPZ5RlYQp1ny"
   },
   "outputs": [],
   "source": [
    "#TO-DO\n",
    "\"\"\"\n",
    "Split the dataset into train dataset and test dataset.\n",
    "Set the random state to any number in order to maintain consistency while generating random numbers over several runs.\n",
    "\"\"\""
   ]
  },
  {
   "cell_type": "markdown",
   "metadata": {
    "id": "eY7EqYsZp1nz"
   },
   "source": [
    "# Linear Regression"
   ]
  },
  {
   "cell_type": "code",
   "execution_count": null,
   "metadata": {
    "id": "hu8lbAnVp1nz"
   },
   "outputs": [],
   "source": [
    "#TO-DO\n",
    "def find_optimal_parameters(x, y):\n",
    "    \"\"\" Compute closed form solution for linear regression!\n",
    "    Optimal weight w* in linear regression is given by w* = (X^T X)^(-1) X^T Y\n",
    "    \n",
    "    Args:\n",
    "    - x (ndarray (Shape: (N, D))): A NxD matrix corresponding to the inputs.\n",
    "    - y (ndarray (Shape: (N, 1))): A N-column vector corresponding to the outputs given the inputs.\n",
    "    \n",
    "    Output:\n",
    "    - w (ndarray (Shape: (D, 1))): A D-column vector corresponding to the bias and weights of the linear model.\n",
    "    \"\"\"\n",
    "    # Pad 1's for the bias term, Why?\n",
    "    x = np.hstack((np.ones((x.shape[0], 1)), x))\n",
    "\n",
    "    # Note that we could use pseudoinverse here instead: np.linalg.pinv\n",
    "    # @ is alias for matmul\n",
    "    p1 = # (X^T X) inverse\n",
    "    p2 = # X^T Y\n",
    "    w = p1 @ p2\n",
    "    return w"
   ]
  },
  {
   "cell_type": "markdown",
   "metadata": {
    "id": "Hef0J8wPp1nz"
   },
   "source": [
    "### Train linear regression model using training data"
   ]
  },
  {
   "cell_type": "code",
   "execution_count": null,
   "metadata": {
    "id": "b2tMQBXYp1n0"
   },
   "outputs": [],
   "source": [
    "#TO-DO\n",
    "def get_pred_Y(trained_w, X_pred):\n",
    "    \"\"\" Return predicted Y\n",
    "    Args:\n",
    "    - trained_w (ndarray (Shape: (D+1, 1))): A (D+1)x1 column vector containing linear regression weights.\n",
    "    - X_pred (ndarray (Shape: (N, D))): A NxD matrix corresponding to the prediction inputs.\n",
    "    \n",
    "    Output:\n",
    "    - pred_Y (ndarray (Shape: (N, 1))): A Nx1 column vector corresponding to the predicted outputs.\n",
    "    \"\"\"\n",
    "    pad_Y     = \n",
    "    pred_Y    = \n",
    "    return pred_Y"
   ]
  },
  {
   "cell_type": "code",
   "execution_count": null,
   "metadata": {
    "id": "NvJEIbPFp1n0"
   },
   "outputs": [],
   "source": [
    "#TO-DO\n",
    "def get_mae(Y_truth, Y_pred):\n",
    "    \"\"\" Return Mean absolute error\n",
    "    Args:\n",
    "    - Y_truth (ndarray (Shape: (N, 1))): A Nx1 column vector corresponding to the actual outputs.\n",
    "    - Y_pred (ndarray (Shape: (N, 1))): A Nx1 column vector corresponding to the predicted outputs.\n",
    "    \n",
    "    Output:\n",
    "    - MSE (ndarray (Shape: (1,))).\n",
    "    \"\"\"\n",
    "    'check if both inputs are of the same shape'\n",
    "    Y_mean = \n",
    "    mae    = \n",
    "    return mae\n",
    "\n",
    "def get_mse(Y_truth, Y_pred):\n",
    "    \"\"\" Return Mean squared error\n",
    "    Args:\n",
    "    - Y_truth (ndarray (Shape: (N, 1))): A Nx1 column vector corresponding to the actual outputs.\n",
    "    - Y_pred (ndarray (Shape: (N, 1))): A Nx1 column vector corresponding to the predicted outputs.\n",
    "    \n",
    "    Output:\n",
    "    - MSE (ndarray (Shape: (1,))).\n",
    "    \"\"\"\n",
    "    'check if both inputs are of the same shape'\n",
    "    Y_mean = \n",
    "    mse    = \n",
    "    return mse"
   ]
  },
  {
   "cell_type": "markdown",
   "metadata": {
    "id": "ihQlEbDzp1n1"
   },
   "source": [
    "### Get predictions on train data"
   ]
  },
  {
   "cell_type": "code",
   "execution_count": null,
   "metadata": {
    "id": "ycC9grI0rKkn"
   },
   "outputs": [],
   "source": [
    "w_optimal = find_optimal_parameters(X_train, Y_train)\n",
    "print(w_optimal)"
   ]
  },
  {
   "cell_type": "code",
   "execution_count": null,
   "metadata": {
    "id": "jntfL_s7p1n1"
   },
   "outputs": [],
   "source": [
    "pred_Y    = get_pred_Y(w_optimal, X_train)\n",
    "print('train error (MSE): ', get_mse(Y_train, pred_Y))\n",
    "print('train error (MAE): ', get_mae(Y_train, pred_Y))"
   ]
  },
  {
   "cell_type": "markdown",
   "metadata": {
    "id": "PrQ5lClCp1n1"
   },
   "source": [
    "### Get predictions and performance on test data"
   ]
  },
  {
   "cell_type": "code",
   "execution_count": null,
   "metadata": {
    "id": "Od4gUr8jp1n1"
   },
   "outputs": [],
   "source": [
    "pred_Y    = get_pred_Y(w_optimal, X_test)\n",
    "print('test error (MSE):: ', get_mse(Y_test, pred_Y))\n",
    "print('test error (MAE): ', get_mae(Y_test, pred_Y))"
   ]
  },
  {
   "cell_type": "markdown",
   "metadata": {
    "id": "VsVtfDC12Rh_"
   },
   "source": [
    "# Silouette Coefficient"
   ]
  },
  {
   "cell_type": "code",
   "execution_count": null,
   "metadata": {
    "id": "MBUC-6gR2Vh7"
   },
   "outputs": [],
   "source": [
    "#TO-DO\n",
    "n_silhouette = []\n",
    "\n",
    "kmeans_kwargs= {\n",
    "    \"init\":\"k-means++\",\n",
    "    \"n_init\":30,\n",
    "    \"max_iter\":250,\n",
    "    \"random_state\":2\n",
    "}\n",
    "\n",
    "\"\"\"\n",
    "Perform the following steps:\n",
    "\n",
    "1. Loop over the various possible K values you wish to test\n",
    "2. Initialize a K means object.\n",
    "3. Fit the training data on the K means object.\n",
    "4. Use the silhouette score method available from the sklearn metrics.\n",
    "5. Append the score to the silhouetter_coefficients list.\n",
    "6. Display the the silhouette coefficient associated with each value of K.\n",
    "\"\"\"\n",
    "    "
   ]
  },
  {
   "cell_type": "markdown",
   "metadata": {
    "id": "0H6Djcju85JN"
   },
   "source": [
    "# K Means"
   ]
  },
  {
   "cell_type": "code",
   "execution_count": null,
   "metadata": {
    "id": "6BvShiJG88NZ"
   },
   "outputs": [],
   "source": [
    "kmeans = KMeans(\n",
    "    init=\"k-means++\",\n",
    "    n_clusters = , #Input the value you configured using the Silhouette coefficient analysis.\n",
    "    n_init=30,\n",
    "    max_iter=250,\n",
    "    random_state=2\n",
    ")\n",
    "\n",
    "#TO-DO\n",
    "# Fit to the training data\n",
    "\n",
    "#TO-DO\n",
    "# Add the features and the training data you used to the variable below.\n",
    "training_df_clustered = \n",
    "\n",
    "#TO-DO\n",
    "# Predict clusters for the training data\n",
    "train_cluster = \n",
    "\n",
    "#TO-DO\n",
    "# Add the target and predicted clusters to the training DataFrame\n",
    "\n",
    "\n",
    "#TO-DO\n",
    "# Set the number of clusters based on the silhouette coefficient analysis\n",
    "number_cluster = \n",
    "\n",
    "X_train_clusters_df = []\n",
    "for i in range(number_cluster):\n",
    "    X_train_clusters_df.append(training_df_clustered[training_df_clustered['cluster']==i])"
   ]
  },
  {
   "cell_type": "markdown",
   "metadata": {
    "id": "BVbD_sYQ88qB"
   },
   "source": [
    "# Building Linear Regression for our clusters"
   ]
  },
  {
   "cell_type": "code",
   "execution_count": null,
   "metadata": {
    "id": "BMwMKQEpLm2F"
   },
   "outputs": [],
   "source": [
    "from sklearn.linear_model import LinearRegression\n",
    "\n",
    "\"\"\"\n",
    "The number of clusters would be defined by the outcome of the silhouetter coefficient \n",
    "Set up the model of Linear Regression by exploring the different parameters: https://scikit-learn.org/stable/modules/generated/sklearn.linear_model.LinearRegression.html\n",
    "train_clusters_df is a dataframe that contains both the true cluster values and the predicted cluster values. Feel free to change the variable name to something else if you have been following a different naming convention.\n",
    "\"\"\"\n",
    "\n",
    "#TO-DO\n",
    "# Set the number of clusters based on the silhouette coefficient analysis\n",
    "number_cluster = \n",
    "obj_cluster = []\n",
    "\n",
    "#TO-DO\n",
    "# Initialize a Linear Regression object.\n",
    "\n",
    "for i in range(number_cluster):\n",
    "    #Get the specific X_train values according to their predicted clusters.\n",
    "    X_clustered_data = \n",
    "    #Get the specific Y_train values according to their predicted clusters.\n",
    "    Y_clustered_data = \n",
    "    obj_cluster.append(__________.fit(X_clustered_data, Y_clustered_data)) #Replace the underlines with the variable name you used to create the Linear Regression object."
   ]
  },
  {
   "cell_type": "code",
   "execution_count": null,
   "metadata": {
    "id": "iOF-lX3dL97-"
   },
   "outputs": [],
   "source": [
    "def predict_value(x_test, kmeans, cluster_linear):\n",
    "  \"\"\"\n",
    "  Input: \n",
    "  x_test is the test value that you wish to predict on.\n",
    "  kmeans is the kmeans object that you have finalized to predict on the test dataset.\n",
    "  cluster_linear is the list of fitted models on different clusters.\n",
    "\n",
    "  Return:\n",
    "  linear_pred - linear_pred will be type list with prediction values\n",
    "  clusters - clusters_pred will be the prediction of clusters using k means.\n",
    "\n",
    "  Follow these steps:\n",
    "  1. Predict clusters using K means object on the test data.\n",
    "  2. Predict regression values using Linear Regression list.\n",
    "  3. return both the predictions.\n",
    "\n",
    "  \"\"\"\n",
    "  linear_pred = []\n",
    "  clusters = []\n",
    "  return linear_pred, clusters"
   ]
  },
  {
   "cell_type": "markdown",
   "metadata": {
    "id": "y-KOf0ncBvkN"
   },
   "source": [
    "# Final Steps"
   ]
  },
  {
   "cell_type": "code",
   "execution_count": null,
   "metadata": {
    "id": "TAYyCLx8Bcwb"
   },
   "outputs": [],
   "source": [
    "#Apply the clustering-based linear regression to the test set.\n"
   ]
  },
  {
   "cell_type": "code",
   "execution_count": null,
   "metadata": {
    "id": "7hTtpG7j91JL"
   },
   "outputs": [],
   "source": [
    "print('test error (MSE):: ', get_mse(Y_test, np.array(Y_svr_k_means_pred).reshape(125,1)))\n",
    "print('test error (MAE): ', get_mae(Y_test, np.array(Y_svr_k_means_pred).reshape(125,1)))"
   ]
  }
 ],
 "metadata": {
  "colab": {
   "collapsed_sections": [],
   "provenance": []
  },
  "kernelspec": {
   "display_name": "Python 3 (ipykernel)",
   "language": "python",
   "name": "python3"
  },
  "language_info": {
   "codemirror_mode": {
    "name": "ipython",
    "version": 3
   },
   "file_extension": ".py",
   "mimetype": "text/x-python",
   "name": "python",
   "nbconvert_exporter": "python",
   "pygments_lexer": "ipython3",
   "version": "3.9.12"
  }
 },
 "nbformat": 4,
 "nbformat_minor": 1
}
