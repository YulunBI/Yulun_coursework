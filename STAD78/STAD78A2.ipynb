{
 "cells": [
  {
   "cell_type": "code",
   "execution_count": 16,
   "metadata": {},
   "outputs": [],
   "source": [
    "# Import packages\n",
    "import matplotlib.pyplot as plt\n",
    "import numpy as np\n",
    "from matplotlib.pyplot import figure\n",
    "from mpl_toolkits.mplot3d import Axes3D\n",
    "from pprint import pprint"
   ]
  },
  {
   "cell_type": "code",
   "execution_count": 17,
   "metadata": {},
   "outputs": [],
   "source": [
    "def FTL(T,V):\n",
    "    zt = -0.5\n",
    "    FTLloss = 0\n",
    "    Regret = np.zeros(T)\n",
    "    for i in range(1, T + 1):   \n",
    "        if (i == 2):\n",
    "            xt = 1\n",
    "        elif(i > 2):\n",
    "            xt = -1*zt\n",
    "        else:\n",
    "            xt = np.random.uniform(V[0],V[1])\n",
    "        if (i != 1 and i%2 == 0):\n",
    "            zt = 1\n",
    "        elif (i != 1 and i%2 == 1):\n",
    "            zt = -1 \n",
    "        if (xt < V[0] or xt > V[1]):\n",
    "            FTLloss += zt * xt + np.Inf\n",
    "        else:\n",
    "            FTLloss += zt * xt\n",
    "        Regret[i-1] = FTLloss # u = 0, so l_t(u)=0\n",
    "    return Regret\n",
    "    \n",
    "        "
   ]
  },
  {
   "cell_type": "code",
   "execution_count": 18,
   "metadata": {},
   "outputs": [
    {
     "name": "stdout",
     "output_type": "stream",
     "text": [
      "[ 0.11954944  1.11954944  2.11954944  3.11954944  4.11954944  5.11954944\n",
      "  6.11954944  7.11954944  8.11954944  9.11954944 10.11954944 11.11954944\n",
      " 12.11954944 13.11954944 14.11954944 15.11954944 16.11954944 17.11954944\n",
      " 18.11954944 19.11954944 20.11954944 21.11954944 22.11954944 23.11954944\n",
      " 24.11954944 25.11954944 26.11954944 27.11954944 28.11954944 29.11954944\n",
      " 30.11954944 31.11954944 32.11954944 33.11954944 34.11954944 35.11954944\n",
      " 36.11954944 37.11954944 38.11954944 39.11954944 40.11954944 41.11954944\n",
      " 42.11954944 43.11954944 44.11954944 45.11954944 46.11954944 47.11954944\n",
      " 48.11954944 49.11954944]\n"
     ]
    },
    {
     "data": {
      "image/png": "[encoded data removed]",
      "text/plain": "<Figure size 432x288 with 1 Axes>"
     },
     "metadata": {
      "needs_background": "light",
      "transient": {}
     },
     "output_type": "display_data"
    }
   ],
   "source": [
    "V = np.array([-1,1])\n",
    "T = 50\n",
    "Regret = FTL(T,V)\n",
    "print(Regret)\n",
    "xaxis = np.arange(1,T+1)\n",
    "plt.plot(xaxis,Regret)\n",
    "plt.show()\n"
   ]
  },
  {
   "cell_type": "markdown",
   "metadata": {},
   "source": [
    "In this case, Regret is linear, so FTL fail to achieve sublinear Regret."
   ]
  },
  {
   "cell_type": "code",
   "execution_count": null,
   "metadata": {},
   "outputs": [],
   "source": []
  }
 ],
 "metadata": {
  "kernelspec": {
   "display_name": "Python 3.9.7 64-bit ('base': conda)",
   "metadata": {
    "interpreter": {
     "hash": "604ff95e6bc57bdc25b3ff6b91e22560271cb31bb920e33f9211fb90a9a371ac"
    }
   },
   "name": "python3"
  },
  "language_info": {
   "codemirror_mode": {
    "name": "ipython",
    "version": 3
   },
   "file_extension": ".py",
   "mimetype": "text/x-python",
   "name": "python",
   "nbconvert_exporter": "python",
   "pygments_lexer": "ipython3",
   "version": "3.9.7"
  },
  "orig_nbformat": 2
 },
 "nbformat": 4,
 "nbformat_minor": 2
}